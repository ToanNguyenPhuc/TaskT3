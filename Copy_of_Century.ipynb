{
  "nbformat": 4,
  "nbformat_minor": 0,
  "metadata": {
    "colab": {
      "provenance": []
    },
    "kernelspec": {
      "name": "python3",
      "display_name": "Python 3"
    },
    "language_info": {
      "name": "python"
    }
  },
  "cells": [
    {
      "cell_type": "code",
      "execution_count": 1,
      "metadata": {
        "colab": {
          "base_uri": "https://localhost:8080/"
        },
        "id": "njok0lSeYtoF",
        "outputId": "d908c3dd-5690-4bd1-cab3-19cde2c48061"
      },
      "outputs": [
        {
          "output_type": "stream",
          "name": "stdout",
          "text": [
            "Cloning into 'ENV'...\n",
            "remote: Enumerating objects: 1470, done.\u001b[K\n",
            "remote: Counting objects: 100% (696/696), done.\u001b[K\n",
            "remote: Compressing objects: 100% (424/424), done.\u001b[K\n",
            "remote: Total 1470 (delta 294), reused 583 (delta 204), pack-reused 774\u001b[K\n",
            "Receiving objects: 100% (1470/1470), 67.24 MiB | 17.11 MiB/s, done.\n",
            "Resolving deltas: 100% (604/604), done.\n",
            "/content/ENV\n"
          ]
        }
      ],
      "source": [
        "!git clone https://github.com/ngoxuanphong/ENV.git\n",
        "%cd ENV"
      ]
    },
    {
      "cell_type": "code",
      "source": [
        "\n",
        "# Check hệ thống\n",
        "\n",
        "# import Base.MachiKoro.env as env\n",
        "# from CheckEnv import check_env\n",
        "# print(check_env(env))\n",
        "\n",
        "import numpy as np\n",
        "import random as rd\n",
        "from numba import njit, jit\n",
        "import sys, os\n",
        "from setup import SHORT_PATH\n",
        "import importlib.util\n",
        "game_name = 'Century'\n",
        "\n",
        "def add_game_to_syspath(game_name):\n",
        "    if len(sys.argv) >= 2:\n",
        "        sys.argv = [sys.argv[0]]\n",
        "    sys.argv.append(game_name)\n",
        "\n",
        "def setup_game(game_name):\n",
        "    spec = importlib.util.spec_from_file_location('env', f\"{SHORT_PATH}Base/{game_name}/env.py\")\n",
        "    module = importlib.util.module_from_spec(spec)\n",
        "    sys.modules[spec.name] = module \n",
        "    spec.loader.exec_module(module)\n",
        "    return module\n",
        "\n",
        "add_game_to_syspath(game_name)\n",
        "env = setup_game(game_name)\n",
        "\n",
        "getActionSize = env.getActionSize\n",
        "getStateSize = env.getStateSize\n",
        "getAgentSize = env.getAgentSize\n",
        "\n",
        "getValidActions = env.getValidActions\n",
        "getReward = env.getReward\n",
        "numba_main_2 = env.numba_main_2\n",
        "@njit()\n",
        "def bot_lv0(state, perData):\n",
        "    validActions = getValidActions(state)\n",
        "    arr_action = np.where(validActions==1)[0]\n",
        "    idx = np.random.randint(0, arr_action.shape[0])\n",
        "    return arr_action[idx], perData"
      ],
      "metadata": {
        "id": "kxVRRaIaY6YJ"
      },
      "execution_count": 2,
      "outputs": []
    },
    {
      "cell_type": "code",
      "source": [
        "print(np.arange(0,4))"
      ],
      "metadata": {
        "colab": {
          "base_uri": "https://localhost:8080/"
        },
        "id": "w7IxgHPKcuFv",
        "outputId": "5145fe91-8fc1-444f-ddd6-312191510855"
      },
      "execution_count": null,
      "outputs": [
        {
          "output_type": "stream",
          "name": "stdout",
          "text": [
            "[0 1 2 3]\n"
          ]
        }
      ]
    },
    {
      "cell_type": "markdown",
      "source": [],
      "metadata": {
        "id": "LVQvOz2EtoLo"
      }
    },
    {
      "cell_type": "code",
      "source": [
        "from Base.Century.index import ALL_CARD_IN4 \n",
        "\n",
        "@njit()\n",
        "def getValueActionsCard(state,infor_action_cards_on_board):\n",
        "    id = 0\n",
        "    ls_return = []\n",
        "    for infor_action_card in infor_action_cards_on_board:\n",
        "        arr_cal = np.array([0.1,0.2,0.4,0.8])\n",
        "        token_cost = infor_action_card[0:4]\n",
        "        token_get = infor_action_card[4:8]\n",
        "        sum_cost_point = sum(arr_cal * token_cost) * 0.4\n",
        "        sum_get_point = sum(arr_cal * token_get) * 0.4\n",
        "        times_upgrade =  infor_action_card[-1]\n",
        "        value_ = sum_get_point - sum_cost_point - id *0.3 + times_upgrade * 0.1\n",
        "        ls_return.append(value_)\n",
        "        id+=1\n",
        "    arr_return = np.array(ls_return)\n",
        "    return arr_return\n",
        "@njit()\n",
        "def getArrValueActionsCard(state,infor_action_cards_on_board):\n",
        "    id = 0\n",
        "    ls_return = []\n",
        "    for infor_action_card in infor_action_cards_on_board:\n",
        "        arr_cal = np.array([0.1,0.2,0.4,0.8])\n",
        "        token_cost = infor_action_card[0:4]\n",
        "        token_get = infor_action_card[4:8]\n",
        "        sum_cost_point = sum(arr_cal * token_cost) * 0.4\n",
        "        sum_get_point = sum(arr_cal * token_get) * 0.4\n",
        "        times_upgrade =  infor_action_card[-1]\n",
        "        value_ = sum_get_point - sum_cost_point - id *0.3 + times_upgrade * 0.1\n",
        "        ls_return.append(value_)\n",
        "        id+=1\n",
        "\n",
        "    arr_return = np.array(ls_return)\n",
        "    # print('arr_return',arr_return)\n",
        "    return arr_return\n",
        "@njit()\n",
        "def chooseGetFreeTokenActionCardOnBoard(state,infor_action_cards_on_board):\n",
        "   id = 1\n",
        "   for action_card in infor_action_cards_on_board:\n",
        "      cost_ = sum(action_card[0:4])\n",
        "      get_ = sum(action_card[4:8])\n",
        "      if cost_ == 0 and get_ > 0 and id < 3:\n",
        "        return id\n",
        "      id += 0\n",
        "   return -1\n",
        "\n",
        "@njit()\n",
        "def valueOf(cards, action, resources, pointCards):\n",
        "    card = cards[int(action-12)]\n",
        "    returnTokens = card[0:4]\n",
        "    rewardTokens = card[4:8]       \n",
        "    nUpgradeTokens = card[8]\n",
        "    pTokens = rewardTokens + resources - returnTokens\n",
        "    score = 0\n",
        "    for pointCard in pointCards:\n",
        "        balance = pTokens - pointCard\n",
        "        if np.all(balance>=0):\n",
        "            score += 10000000000000\n",
        "        if np.sum(pTokens) <= 10:\n",
        "            balance[balance<0] = 0\n",
        "            score += (np.sum(pTokens*np.array([1, 1, 2, 3])))\n",
        "        elif nUpgradeTokens > 0:\n",
        "            score += nUpgradeTokens\n",
        "        else:\n",
        "            score += (np.sum(pTokens*np.array([1, 1, 2, 3]))-20)\n",
        "    return score  \n",
        "@njit()\n",
        "def choosePointCard(state,id_card_can_buy,infor_point_cards_on_board):\n",
        "  point_ls = []\n",
        "  for id_card_can_buy in id_card_can_buy:\n",
        "    id_card_can_buy = id_card_can_buy - 7\n",
        "    point = infor_point_cards_on_board[id_card_can_buy][-1]\n",
        "    point_ls.append(point)\n",
        "  point_arr = np.array(point_ls)\n",
        "  return np.argmax(point_arr)\n",
        "\n",
        "@njit()\n",
        "def agentCentury(state,per):\n",
        "    actions = getValidActions(state)\n",
        "    actions = np.where(actions == 1)[0]\n",
        "    player_token = state[2:6]\n",
        "    infor_point_cards_on_board = state[194:219].reshape(5,5)\n",
        "    infor_action_cards_on_board = state[120:174].reshape(6,9)\n",
        "   \n",
        "    actions_card_rank = getValueActionsCard(state,infor_action_cards_on_board)\n",
        "    highest_action_card_value = np.argmax(actions_card_rank)\n",
        "    buy_actions_card = actions[(actions>=7) & (actions < 12)]\n",
        "#---------------Working on\n",
        "    if 1 in actions:\n",
        "      return 1,per\n",
        "    if 0 in actions:\n",
        "      total_actions_card_on_hand = len(np.where(state[6:51] == 1)[0])\n",
        "      total_actions_card_had_use = len(np.where(state[51:96] == 1)[0])\n",
        "      if ((total_actions_card_had_use) >= total_actions_card_on_hand * 0.5 ) :\n",
        "          return 0,per\n",
        "    if len(buy_actions_card):\n",
        "      arr_cham_diem_action_card = getArrValueActionsCard(state,infor_action_cards_on_board)\n",
        "      id = np.argmax(arr_cham_diem_action_card) -1\n",
        "      return buy_actions_card[id] ,per\n",
        "\n",
        "    idGetFreeTokenAction = chooseGetFreeTokenActionCardOnBoard(state,infor_action_cards_on_board)\n",
        "    if idGetFreeTokenAction != -1:\n",
        "        return idGetFreeTokenAction,per\n",
        "\n",
        "    action_buy_point_card = actions[(actions>=7) & (actions < 12)]\n",
        "    if len(action_buy_point_card)>0:\n",
        "      # id_buy_point_card = choosePointCard(state,action_buy_point_card,infor_point_cards_on_board)\n",
        "      return action_buy_point_card[0],per\n",
        "\n",
        "    removeToken = actions[(actions >= 57) & (actions < 61)]\n",
        "    if len(removeToken)>0:\n",
        "      my_token = state[2:6]\n",
        "      return np.argmax(my_token)+ 57,per\n",
        "      #\n",
        "\n",
        "    resources = state[2:6]\n",
        "    actionCards = ALL_CARD_IN4\n",
        "    performActionCardsActions = actions[(actions>=12) & (actions<57)]\n",
        "    if len(performActionCardsActions) > 0:\n",
        "        \n",
        "        valueOfActionCards = np.zeros_like(performActionCardsActions)\n",
        "        for i in range(len(performActionCardsActions)):\n",
        "            valueOfActionCards[i] = valueOf(actionCards, performActionCardsActions[i], resources, infor_point_cards_on_board[:, 0:4])\n",
        "        action = performActionCardsActions[np.argmax(valueOfActionCards)]\n",
        "        return action, per\n",
        "    # if sum(state[51:96]) < 1:\n",
        "    #   return np.random.choice(actions),per\n",
        "   \n",
        "    upgradeToken = actions[(actions >= 62) & (actions < 65)]\n",
        "    if len(upgradeToken) > 0:\n",
        "        return upgradeToken[-1],per\n",
        "   \n",
        "    return np.random.choice(actions),per\n",
        "for i in range(10):\n",
        "  win,per = numba_main_2(agentCentury,10000,np.array([0.]),1)\n",
        "  print('win',win)"
      ],
      "metadata": {
        "colab": {
          "base_uri": "https://localhost:8080/"
        },
        "id": "GQ05y_HdZBez",
        "outputId": "3a0c650b-9e5c-487a-e0e5-11b43bb28136"
      },
      "execution_count": 35,
      "outputs": [
        {
          "output_type": "stream",
          "name": "stdout",
          "text": [
            "win 5029\n",
            "win 5023\n",
            "win 4986\n",
            "win 5059\n",
            "win 5081\n",
            "win 4998\n",
            "win 5049\n",
            "win 5101\n",
            "win 5045\n",
            "win 5117\n"
          ]
        }
      ]
    },
    {
      "cell_type": "code",
      "source": [],
      "metadata": {
        "id": "hhDKHdgDaQJG"
      },
      "execution_count": null,
      "outputs": []
    }
  ]
}